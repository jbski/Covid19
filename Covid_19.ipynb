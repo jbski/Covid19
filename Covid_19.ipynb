{
 "cells": [
  {
   "cell_type": "code",
   "execution_count": null,
   "metadata": {},
   "outputs": [],
   "source": [
    "import pandas as pd\n",
    "import matplotlib.pyplot as plt\n",
    "import os\n",
    "import csv\n",
    "import numpy as np\n",
    "import requests\n",
    "from config import rapid_api_key\n",
    "from config import rapidapi_host\n",
    "from pprint import pprint\n",
    "import datetime"
   ]
  },
  {
   "cell_type": "code",
   "execution_count": null,
   "metadata": {},
   "outputs": [],
   "source": [
    "# os.getcwd()\n",
    "# os.chdir('C:\\\\gitlab\\\\covid19')"
   ]
  },
  {
   "cell_type": "code",
   "execution_count": null,
   "metadata": {},
   "outputs": [],
   "source": [
    "county_path = 'Resources/us_counties_states.csv'\n",
    "date_path = 'Resources/dates.csv'"
   ]
  },
  {
   "cell_type": "code",
   "execution_count": null,
   "metadata": {},
   "outputs": [],
   "source": [
    "us_counties_df = pd.read_csv(county_path)\n",
    "mask1 = us_counties_df['State'] == 'California'\n",
    "mask2 = us_counties_df['State'] == 'Indiana'\n",
    "\n",
    "us_counties_df = us_counties_df[mask1 | mask2]\n",
    "us_counties_df.head()"
   ]
  },
  {
   "cell_type": "code",
   "execution_count": null,
   "metadata": {},
   "outputs": [],
   "source": [
    "date_df = pd.read_csv(date_path)\n",
    "date_df.head()"
   ]
  },
  {
   "cell_type": "code",
   "execution_count": null,
   "metadata": {},
   "outputs": [],
   "source": [
    "county_list = []\n",
    "state_list = []\n",
    "county_list = us_counties_df['County, State'].tolist()\n",
    "date_list = date_df['Date'].tolist()"
   ]
  },
  {
   "cell_type": "code",
   "execution_count": null,
   "metadata": {},
   "outputs": [],
   "source": []
  },
  {
   "cell_type": "code",
   "execution_count": null,
   "metadata": {
    "scrolled": true
   },
   "outputs": [],
   "source": [
    "date = \"2020-10-10\"\n",
    "url = \"https://covid-19-statistics.p.rapidapi.com/reports\"\n",
    "headers = {'x-rapidapi-host': rapidapi_host,'x-rapidapi-key': rapid_api_key}\n",
    "\n",
    "# State lists\n",
    "new_state = []\n",
    "total_cases_state = []\n",
    "new_cases_state = []\n",
    "tot_deaths_state = []\n",
    "new_deaths_state = []\n",
    "fatality_rate_state = []\n",
    "date_state = []\n",
    "\n",
    "# County Lists\n",
    "county_state_list = []\n",
    "new_county_list = []\n",
    "tot_county_cases = []\n",
    "new_county_cases = []\n",
    "tot_county_deaths = []\n",
    "new_county_deaths = []\n",
    "county_date = []\n",
    "county_lat = []\n",
    "county_lng = []\n",
    "\n",
    "\n",
    "for date_val in date_list:\n",
    "    try:\n",
    "        record_counter = 0\n",
    "        set_counter = 1\n",
    "\n",
    "        for name in county_list:\n",
    "            value = name.split(',')\n",
    "            county = value[0]\n",
    "            state = value[1]\n",
    "            country_state = \"US \" + state\n",
    "            record_counter +=1\n",
    "\n",
    "            querystring = {\"region_province\":state,\"iso\":\"USA\",\"region_name\":\"US\",\"city_name\":county, \\\n",
    "                           \"date\":date,\"q\":country_state}   \n",
    "\n",
    "            response = requests.request(\"GET\", url, headers=headers, params=querystring).json()    \n",
    "\n",
    "            try:\n",
    "                # Add State Information\n",
    "                new_state.append(response['data'][0]['region']['province'])\n",
    "                total_cases_state.append(response['data'][0]['confirmed'])\n",
    "                new_cases_state.append(response['data'][0]['confirmed_diff'])\n",
    "                tot_deaths_state.append(response['data'][0]['deaths'])\n",
    "                new_deaths_state.append(response['data'][0]['deaths_diff'])\n",
    "                fatality_rate_state.append(response['data'][0]['fatality_rate'])\n",
    "                date_state.append(response['data'][0]['date_val'])         \n",
    "\n",
    "                # Add County information\n",
    "                county_state_list.append(response['data'][0]['region']['province'])\n",
    "                new_county_list.append(response['data'][0]['region']['cities'][0]['name'])\n",
    "                tot_county_cases.append(response['data'][0]['region']['cities'][0]['confirmed'])\n",
    "                new_county_cases.append(response['data'][0]['region']['cities'][0]['confirmed_diff'])\n",
    "                tot_county_deaths.append(response['data'][0]['region']['cities'][0]['deaths'])\n",
    "                new_county_deaths.append(response['data'][0]['region']['cities'][0]['deaths_diff'])\n",
    "                county_date.append(response['data'][0]['region']['cities'][0]['date_val'])\n",
    "                county_lat.append(response['data'][0]['region']['cities'][0]['lat'])\n",
    "                county_lng.append(response['data'][0]['region']['cities'][0]['long'])\n",
    "\n",
    "                if record_counter > 150:\n",
    "                    record_counter = 1\n",
    "                    set_counter += 1\n",
    "\n",
    "                print(f'Processing record {record_counter} of set {set_counter} | {county}, {state}, {date_val}.')\n",
    "\n",
    "            except:\n",
    "                record_counter -= 1\n",
    "                print(f'Error: County: {county} and State:{state} not found')\n",
    "                \n",
    "        set_counter += 1\n",
    "        \n",
    "    except:\n",
    "        print(f'Date Error: {date_val} was not processed')\n",
    "            \n",
    "\n"
   ]
  },
  {
   "cell_type": "code",
   "execution_count": null,
   "metadata": {},
   "outputs": [],
   "source": [
    "print(len(new_state))\n",
    "print(len(county_state_list))\n",
    "print(len(county_state_list))\n",
    "print(len(new_county_list))\n",
    "print(len(tot_county_cases))\n",
    "print(len(new_county_cases))\n",
    "print(len(tot_county_deaths))\n",
    "print(len(new_county_deaths))\n",
    "print(len(county_date))\n",
    "print(len(county_lat))\n",
    "print(len(county_lng))"
   ]
  },
  {
   "cell_type": "code",
   "execution_count": null,
   "metadata": {},
   "outputs": [],
   "source": [
    "covid_state_df = pd.DataFrame({\n",
    "    \"State\" : new_state,\n",
    "    \"Total Cases-State\" : total_cases_state,\n",
    "    \"New Cases-State\" : new_cases_state,\n",
    "    \"Total Deaths-State\" : tot_deaths_state,\n",
    "    \"New Deaths-State\" : new_deaths_state,\n",
    "    \"Fatality Rate-State\" : fatality_rate_state,\n",
    "    \"Date-State\" : date_state    \n",
    "})    \n",
    "\n",
    "# covid_state_df.drop_duplicates(keep='first', inplace=True)\n",
    "covid_state_df=covid_state_df.sort_values(by=\"Date-State\", ascending=False)\n",
    "# covid_state_df.to_csv('Resources/state_df.csv')\n"
   ]
  },
  {
   "cell_type": "code",
   "execution_count": null,
   "metadata": {},
   "outputs": [],
   "source": [
    "covid_county_df = pd.DataFrame({\n",
    "    \"State-County\" : county_state_list,\n",
    "    \"County\" : new_county_list,\n",
    "    \"Total Cases-County\" : tot_county_cases,\n",
    "    \"New Cases-County\" : new_county_cases,\n",
    "    \"Total Deaths-County\" : tot_county_deaths,\n",
    "    \"New Deaths-County\" : new_county_deaths,\n",
    "    \"Date-County\" : county_date,\n",
    "    \"Latitude-County\" : county_lat,\n",
    "    \"Longitude-County\" : county_lng   \n",
    "})\n",
    "\n",
    "\n",
    "covid_county_df"
   ]
  },
  {
   "cell_type": "code",
   "execution_count": null,
   "metadata": {},
   "outputs": [],
   "source": []
  },
  {
   "cell_type": "code",
   "execution_count": null,
   "metadata": {},
   "outputs": [],
   "source": []
  },
  {
   "cell_type": "code",
   "execution_count": null,
   "metadata": {},
   "outputs": [],
   "source": []
  },
  {
   "cell_type": "code",
   "execution_count": null,
   "metadata": {},
   "outputs": [],
   "source": [
    "day_change = datetime.timedelta(days=1)\n",
    "end_date = datetime.date.today()\n",
    "start_date = datetime.datetime.today() - datetime.timedelta(days=224)\n",
    "nextday_date = datetime.datetime.today() + datetime.timedelta(days=1)"
   ]
  },
  {
   "cell_type": "code",
   "execution_count": null,
   "metadata": {},
   "outputs": [],
   "source": []
  },
  {
   "cell_type": "code",
   "execution_count": null,
   "metadata": {},
   "outputs": [],
   "source": []
  },
  {
   "cell_type": "code",
   "execution_count": null,
   "metadata": {},
   "outputs": [],
   "source": []
  },
  {
   "cell_type": "code",
   "execution_count": null,
   "metadata": {
    "scrolled": true
   },
   "outputs": [],
   "source": []
  },
  {
   "cell_type": "code",
   "execution_count": null,
   "metadata": {},
   "outputs": [],
   "source": []
  },
  {
   "cell_type": "code",
   "execution_count": null,
   "metadata": {},
   "outputs": [],
   "source": []
  },
  {
   "cell_type": "code",
   "execution_count": null,
   "metadata": {},
   "outputs": [],
   "source": []
  },
  {
   "cell_type": "code",
   "execution_count": null,
   "metadata": {},
   "outputs": [],
   "source": []
  },
  {
   "cell_type": "code",
   "execution_count": null,
   "metadata": {},
   "outputs": [],
   "source": []
  },
  {
   "cell_type": "code",
   "execution_count": null,
   "metadata": {},
   "outputs": [],
   "source": []
  },
  {
   "cell_type": "code",
   "execution_count": null,
   "metadata": {},
   "outputs": [],
   "source": []
  },
  {
   "cell_type": "code",
   "execution_count": null,
   "metadata": {},
   "outputs": [],
   "source": []
  },
  {
   "cell_type": "code",
   "execution_count": null,
   "metadata": {},
   "outputs": [],
   "source": []
  },
  {
   "cell_type": "code",
   "execution_count": null,
   "metadata": {},
   "outputs": [],
   "source": []
  },
  {
   "cell_type": "code",
   "execution_count": null,
   "metadata": {},
   "outputs": [],
   "source": []
  }
 ],
 "metadata": {
  "kernelspec": {
   "display_name": "Python 3",
   "language": "python",
   "name": "python3"
  },
  "language_info": {
   "codemirror_mode": {
    "name": "ipython",
    "version": 3
   },
   "file_extension": ".py",
   "mimetype": "text/x-python",
   "name": "python",
   "nbconvert_exporter": "python",
   "pygments_lexer": "ipython3",
   "version": "3.7.6"
  }
 },
 "nbformat": 4,
 "nbformat_minor": 4
}
